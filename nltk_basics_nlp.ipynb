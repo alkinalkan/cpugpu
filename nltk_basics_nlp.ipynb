{
  "nbformat": 4,
  "nbformat_minor": 0,
  "metadata": {
    "colab": {
      "provenance": [],
      "collapsed_sections": [
        "XFh4BRFVCg9M"
      ],
      "authorship_tag": "ABX9TyNplP5kUEq9j/0jbx1ElgYN",
      "include_colab_link": true
    },
    "kernelspec": {
      "name": "python3",
      "display_name": "Python 3"
    },
    "language_info": {
      "name": "python"
    }
  },
  "cells": [
    {
      "cell_type": "markdown",
      "metadata": {
        "id": "view-in-github",
        "colab_type": "text"
      },
      "source": [
        "<a href=\"https://colab.research.google.com/github/alkinalkan/cpugpu/blob/main/nltk_basics_nlp.ipynb\" target=\"_parent\"><img src=\"https://colab.research.google.com/assets/colab-badge.svg\" alt=\"Open In Colab\"/></a>"
      ]
    },
    {
      "cell_type": "markdown",
      "source": [
        "# Tokenization"
      ],
      "metadata": {
        "id": "XFh4BRFVCg9M"
      }
    },
    {
      "cell_type": "code",
      "execution_count": null,
      "metadata": {
        "id": "xbTw_vMJ7KcJ",
        "colab": {
          "base_uri": "https://localhost:8080/"
        },
        "outputId": "1cfc2e95-7220-455f-ae3b-8773a93bf93b"
      },
      "outputs": [
        {
          "output_type": "stream",
          "name": "stderr",
          "text": [
            "[nltk_data] Downloading package punkt to /root/nltk_data...\n",
            "[nltk_data]   Package punkt is already up-to-date!\n"
          ]
        }
      ],
      "source": [
        "import nltk\n",
        "nltk.download('punkt')\n",
        "from nltk.tokenize import sent_tokenize, word_tokenize\n",
        "# sent_tokenize for sentence tokenization\n",
        "# word_tokenize for word tokenization"
      ]
    },
    {
      "cell_type": "code",
      "source": [
        "text = \"Alan Turing, in full Alan Mathison Turing, (born June 23, 1912, London, England—died June 7, 1954, Wilmslow, Cheshire), British mathematician and logician who made major contributions to mathematics, cryptanalysis, logic, philosophy, and mathematical biology and also to the new areas later named computer science, cognitive science, artificial intelligence, and artificial life.\""
      ],
      "metadata": {
        "id": "-eTyWN4_G1ow"
      },
      "execution_count": null,
      "outputs": []
    },
    {
      "cell_type": "code",
      "source": [
        "text.split()\n",
        "# The split() method splits a string into a list."
      ],
      "metadata": {
        "colab": {
          "base_uri": "https://localhost:8080/"
        },
        "id": "RpaABcaxIBIW",
        "outputId": "06b1fb60-6f8b-4f7c-b81b-985d11da0aad"
      },
      "execution_count": null,
      "outputs": [
        {
          "output_type": "execute_result",
          "data": {
            "text/plain": [
              "['Alan',\n",
              " 'Turing,',\n",
              " 'in',\n",
              " 'full',\n",
              " 'Alan',\n",
              " 'Mathison',\n",
              " 'Turing,',\n",
              " '(born',\n",
              " 'June',\n",
              " '23,',\n",
              " '1912,',\n",
              " 'London,',\n",
              " 'England—died',\n",
              " 'June',\n",
              " '7,',\n",
              " '1954,',\n",
              " 'Wilmslow,',\n",
              " 'Cheshire),',\n",
              " 'British',\n",
              " 'mathematician',\n",
              " 'and',\n",
              " 'logician',\n",
              " 'who',\n",
              " 'made',\n",
              " 'major',\n",
              " 'contributions',\n",
              " 'to',\n",
              " 'mathematics,',\n",
              " 'cryptanalysis,',\n",
              " 'logic,',\n",
              " 'philosophy,',\n",
              " 'and',\n",
              " 'mathematical',\n",
              " 'biology',\n",
              " 'and',\n",
              " 'also',\n",
              " 'to',\n",
              " 'the',\n",
              " 'new',\n",
              " 'areas',\n",
              " 'later',\n",
              " 'named',\n",
              " 'computer',\n",
              " 'science,',\n",
              " 'cognitive',\n",
              " 'science,',\n",
              " 'artificial',\n",
              " 'intelligence,',\n",
              " 'and',\n",
              " 'artificial',\n",
              " 'life.']"
            ]
          },
          "metadata": {},
          "execution_count": 16
        }
      ]
    },
    {
      "cell_type": "code",
      "source": [
        "word_tokenize(text)\n",
        "# word_tokenize for word tokenization"
      ],
      "metadata": {
        "colab": {
          "base_uri": "https://localhost:8080/"
        },
        "id": "wYyIMAksIOnO",
        "outputId": "235371fc-35d3-4fa6-8ffe-97b49afc9447"
      },
      "execution_count": null,
      "outputs": [
        {
          "output_type": "execute_result",
          "data": {
            "text/plain": [
              "['Alan',\n",
              " 'Turing',\n",
              " ',',\n",
              " 'in',\n",
              " 'full',\n",
              " 'Alan',\n",
              " 'Mathison',\n",
              " 'Turing',\n",
              " ',',\n",
              " '(',\n",
              " 'born',\n",
              " 'June',\n",
              " '23',\n",
              " ',',\n",
              " '1912',\n",
              " ',',\n",
              " 'London',\n",
              " ',',\n",
              " 'England—died',\n",
              " 'June',\n",
              " '7',\n",
              " ',',\n",
              " '1954',\n",
              " ',',\n",
              " 'Wilmslow',\n",
              " ',',\n",
              " 'Cheshire',\n",
              " ')',\n",
              " ',',\n",
              " 'British',\n",
              " 'mathematician',\n",
              " 'and',\n",
              " 'logician',\n",
              " 'who',\n",
              " 'made',\n",
              " 'major',\n",
              " 'contributions',\n",
              " 'to',\n",
              " 'mathematics',\n",
              " ',',\n",
              " 'cryptanalysis',\n",
              " ',',\n",
              " 'logic',\n",
              " ',',\n",
              " 'philosophy',\n",
              " ',',\n",
              " 'and',\n",
              " 'mathematical',\n",
              " 'biology',\n",
              " 'and',\n",
              " 'also',\n",
              " 'to',\n",
              " 'the',\n",
              " 'new',\n",
              " 'areas',\n",
              " 'later',\n",
              " 'named',\n",
              " 'computer',\n",
              " 'science',\n",
              " ',',\n",
              " 'cognitive',\n",
              " 'science',\n",
              " ',',\n",
              " 'artificial',\n",
              " 'intelligence',\n",
              " ',',\n",
              " 'and',\n",
              " 'artificial',\n",
              " 'life',\n",
              " '.']"
            ]
          },
          "metadata": {},
          "execution_count": 17
        }
      ]
    },
    {
      "cell_type": "code",
      "source": [
        "sent_tokenize(text)\n",
        "# sent_tokenize for sentence tokenization"
      ],
      "metadata": {
        "id": "VkwCBXYSId9n",
        "colab": {
          "base_uri": "https://localhost:8080/"
        },
        "outputId": "508d4027-41c4-4a32-d58c-cd3a7b71d3e6"
      },
      "execution_count": null,
      "outputs": [
        {
          "output_type": "execute_result",
          "data": {
            "text/plain": [
              "['Alan Turing, in full Alan Mathison Turing, (born June 23, 1912, London, England—died June 7, 1954, Wilmslow, Cheshire), British mathematician and logician who made major contributions to mathematics, cryptanalysis, logic, philosophy, and mathematical biology and also to the new areas later named computer science, cognitive science, artificial intelligence, and artificial life.']"
            ]
          },
          "metadata": {},
          "execution_count": 18
        }
      ]
    },
    {
      "cell_type": "code",
      "source": [
        "for token in word_tokenize(text):\n",
        "  print(token)\n",
        "# printing the tokens in word_tokenized text"
      ],
      "metadata": {
        "colab": {
          "base_uri": "https://localhost:8080/"
        },
        "id": "nqV1YctqOOp0",
        "outputId": "5f4c545c-8e1a-4d6d-aa79-593f11cac5b5"
      },
      "execution_count": null,
      "outputs": [
        {
          "output_type": "stream",
          "name": "stdout",
          "text": [
            "Alan\n",
            "Turing\n",
            ",\n",
            "in\n",
            "full\n",
            "Alan\n",
            "Mathison\n",
            "Turing\n",
            ",\n",
            "(\n",
            "born\n",
            "June\n",
            "23\n",
            ",\n",
            "1912\n",
            ",\n",
            "London\n",
            ",\n",
            "England—died\n",
            "June\n",
            "7\n",
            ",\n",
            "1954\n",
            ",\n",
            "Wilmslow\n",
            ",\n",
            "Cheshire\n",
            ")\n",
            ",\n",
            "British\n",
            "mathematician\n",
            "and\n",
            "logician\n",
            "who\n",
            "made\n",
            "major\n",
            "contributions\n",
            "to\n",
            "mathematics\n",
            ",\n",
            "cryptanalysis\n",
            ",\n",
            "logic\n",
            ",\n",
            "philosophy\n",
            ",\n",
            "and\n",
            "mathematical\n",
            "biology\n",
            "and\n",
            "also\n",
            "to\n",
            "the\n",
            "new\n",
            "areas\n",
            "later\n",
            "named\n",
            "computer\n",
            "science\n",
            ",\n",
            "cognitive\n",
            "science\n",
            ",\n",
            "artificial\n",
            "intelligence\n",
            ",\n",
            "and\n",
            "artificial\n",
            "life\n",
            ".\n"
          ]
        }
      ]
    },
    {
      "cell_type": "markdown",
      "source": [
        "# Stop Words"
      ],
      "metadata": {
        "id": "D-sTCTe2CqsM"
      }
    },
    {
      "cell_type": "code",
      "source": [],
      "metadata": {
        "id": "A7A2eNjVCv1o"
      },
      "execution_count": null,
      "outputs": []
    }
  ]
}